{
  "nbformat": 4,
  "nbformat_minor": 0,
  "metadata": {
    "colab": {
      "name": "Perceptron.ipynb",
      "provenance": [],
      "collapsed_sections": [],
      "include_colab_link": true
    },
    "kernelspec": {
      "name": "python3",
      "display_name": "Python 3"
    }
  },
  "cells": [
    {
      "cell_type": "markdown",
      "metadata": {
        "id": "view-in-github",
        "colab_type": "text"
      },
      "source": [
        "<a href=\"https://colab.research.google.com/github/ZPavlo/ML_projects/blob/master/Perceptron.ipynb\" target=\"_parent\"><img src=\"https://colab.research.google.com/assets/colab-badge.svg\" alt=\"Open In Colab\"/></a>"
      ]
    },
    {
      "cell_type": "code",
      "metadata": {
        "id": "umdCSy2Z2ZMW",
        "colab_type": "code",
        "colab": {}
      },
      "source": [
        "import numpy as np\n",
        "import torch"
      ],
      "execution_count": 0,
      "outputs": []
    },
    {
      "cell_type": "code",
      "metadata": {
        "id": "uMRREVaVkBG7",
        "colab_type": "code",
        "colab": {}
      },
      "source": [
        "EPOCH_SIZE = 200"
      ],
      "execution_count": 0,
      "outputs": []
    },
    {
      "cell_type": "code",
      "metadata": {
        "id": "YoBviLuDjxk3",
        "colab_type": "code",
        "colab": {}
      },
      "source": [
        "input_data = np.array([\n",
        "                    [0.0, 0.0],\n",
        "                    [0.0, 1.0],\n",
        "                    [1.0, 0.0],\n",
        "                    [1.0, 1.0],\n",
        "]).astype(\"float32\")\n",
        "true_out_data = np.array([0.0, 1.0, 1.0, 1.0]).astype(\"float32\").T"
      ],
      "execution_count": 0,
      "outputs": []
    },
    {
      "cell_type": "code",
      "metadata": {
        "id": "VFGuHMbckqby",
        "colab_type": "code",
        "colab": {}
      },
      "source": [
        "import torch.nn as nn\n",
        "\n",
        "from torch.optim import SGD\n",
        "\n",
        "model = nn.Sequential(nn.Linear(2, 1))\n",
        "model.train()\n",
        "\n",
        "optim = SGD(model.parameters(), lr=0.02)"
      ],
      "execution_count": 0,
      "outputs": []
    },
    {
      "cell_type": "markdown",
      "metadata": {
        "id": "MHGsQX6P9t0k",
        "colab_type": "text"
      },
      "source": [
        ""
      ]
    },
    {
      "cell_type": "code",
      "metadata": {
        "id": "xZVTec-Uhjmu",
        "colab_type": "code",
        "outputId": "9f618e02-e2ed-4d8f-d8b6-d6c4a91c53d1",
        "colab": {
          "base_uri": "https://localhost:8080/",
          "height": 706
        }
      },
      "source": [
        "from torch.autograd import Variable\n",
        "\n",
        "# Perceptron train\n",
        "for ep in range(EPOCH_SIZE):\n",
        "\n",
        "    optim.zero_grad()\n",
        "    data = torch.from_numpy(input_data)\n",
        "    data.requires_grad_(True)\n",
        "    gt_out = torch.from_numpy(true_out_data).view(-1,1)\n",
        "\n",
        "    out = model(data)\n",
        "    loss = ((out - gt_out) ** 2).sum()\n",
        "    loss.backward()\n",
        "    optim.step()\n",
        "\n",
        "    if ep % 5 == 0:\n",
        "        print(\"eposh: {}, loss {}\".format(ep, loss.item()))\n",
        "print(\"Finish\")"
      ],
      "execution_count": 5,
      "outputs": [
        {
          "output_type": "stream",
          "text": [
            "eposh: 0, loss 4.283298969268799\n",
            "eposh: 5, loss 0.7477093935012817\n",
            "eposh: 10, loss 0.46606260538101196\n",
            "eposh: 15, loss 0.387864351272583\n",
            "eposh: 20, loss 0.3415655791759491\n",
            "eposh: 25, loss 0.31103673577308655\n",
            "eposh: 30, loss 0.29071635007858276\n",
            "eposh: 35, loss 0.27717649936676025\n",
            "eposh: 40, loss 0.2681507468223572\n",
            "eposh: 45, loss 0.26213154196739197\n",
            "eposh: 50, loss 0.25811535120010376\n",
            "eposh: 55, loss 0.2554340362548828\n",
            "eposh: 60, loss 0.2536427676677704\n",
            "eposh: 65, loss 0.2524450719356537\n",
            "eposh: 70, loss 0.2516436278820038\n",
            "eposh: 75, loss 0.25110670924186707\n",
            "eposh: 80, loss 0.2507466673851013\n",
            "eposh: 85, loss 0.2505047619342804\n",
            "eposh: 90, loss 0.25034213066101074\n",
            "eposh: 95, loss 0.250232458114624\n",
            "eposh: 100, loss 0.2501584589481354\n",
            "eposh: 105, loss 0.25010842084884644\n",
            "eposh: 110, loss 0.25007444620132446\n",
            "eposh: 115, loss 0.2500513195991516\n",
            "eposh: 120, loss 0.25003552436828613\n",
            "eposh: 125, loss 0.2500247359275818\n",
            "eposh: 130, loss 0.2500172555446625\n",
            "eposh: 135, loss 0.25001221895217896\n",
            "eposh: 140, loss 0.25000858306884766\n",
            "eposh: 145, loss 0.2500060796737671\n",
            "eposh: 150, loss 0.2500043213367462\n",
            "eposh: 155, loss 0.2500031888484955\n",
            "eposh: 160, loss 0.25000226497650146\n",
            "eposh: 165, loss 0.2500016391277313\n",
            "eposh: 170, loss 0.2500012516975403\n",
            "eposh: 175, loss 0.25000086426734924\n",
            "eposh: 180, loss 0.25000062584877014\n",
            "eposh: 185, loss 0.2500004768371582\n",
            "eposh: 190, loss 0.25000038743019104\n",
            "eposh: 195, loss 0.2500002682209015\n",
            "Finish\n"
          ],
          "name": "stdout"
        }
      ]
    },
    {
      "cell_type": "code",
      "metadata": {
        "id": "i88aDGTi6Yh6",
        "colab_type": "code",
        "colab": {
          "base_uri": "https://localhost:8080/",
          "height": 84
        },
        "outputId": "b3972553-280b-49b8-b23a-5b7e8e651818"
      },
      "source": [
        "test_data = torch.from_numpy(input_data)\n",
        "for d in test_data:\n",
        "    out = int(model(d.unsqueeze(0)).item() > 0.5)\n",
        "    d = [int(p) for p in d]\n",
        "    print(\"input {} : output {}\".format(d, out))"
      ],
      "execution_count": 6,
      "outputs": [
        {
          "output_type": "stream",
          "text": [
            "input [0, 0] : output 0\n",
            "input [0, 1] : output 1\n",
            "input [1, 0] : output 1\n",
            "input [1, 1] : output 1\n"
          ],
          "name": "stdout"
        }
      ]
    }
  ]
}